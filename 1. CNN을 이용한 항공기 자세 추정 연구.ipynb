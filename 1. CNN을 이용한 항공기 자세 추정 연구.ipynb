{
 "cells": [
  {
   "cell_type": "code",
   "execution_count": 1,
   "id": "f67c5d45",
   "metadata": {},
   "outputs": [
    {
     "name": "stderr",
     "output_type": "stream",
     "text": [
      "2024-05-19 21:18:46.878577: I tensorflow/core/util/port.cc:110] oneDNN custom operations are on. You may see slightly different numerical results due to floating-point round-off errors from different computation orders. To turn them off, set the environment variable `TF_ENABLE_ONEDNN_OPTS=0`.\n",
      "2024-05-19 21:18:46.879729: I tensorflow/tsl/cuda/cudart_stub.cc:28] Could not find cuda drivers on your machine, GPU will not be used.\n",
      "2024-05-19 21:18:46.902746: I tensorflow/tsl/cuda/cudart_stub.cc:28] Could not find cuda drivers on your machine, GPU will not be used.\n",
      "2024-05-19 21:18:46.903324: I tensorflow/core/platform/cpu_feature_guard.cc:182] This TensorFlow binary is optimized to use available CPU instructions in performance-critical operations.\n",
      "To enable the following instructions: AVX2 AVX_VNNI FMA, in other operations, rebuild TensorFlow with the appropriate compiler flags.\n",
      "2024-05-19 21:18:47.258801: W tensorflow/compiler/tf2tensorrt/utils/py_utils.cc:38] TF-TRT Warning: Could not find TensorRT\n"
     ]
    }
   ],
   "source": [
    "import os # 파일 시스템 작업\n",
    "import numpy as np # 수치 연산\n",
    "from tensorflow.keras.preprocessing.image import load_img, img_to_array # 이미지 파일 로드, 이미지 넘파일 배열로 변환\n",
    "from tensorflow.keras.models import Sequential\n",
    "from tensorflow.keras.layers import Conv2D, MaxPooling2D, Flatten, Dense, BatchNormalization # 신경망 모델 구성 함수 및 클래스\n",
    "from sklearn.model_selection import train_test_split # 데이터를 훈련 세트와 테스트 세트로 분리하는 함수"
   ]
  },
  {
   "cell_type": "code",
   "execution_count": null,
   "id": "e88f9217",
   "metadata": {},
   "outputs": [],
   "source": [
    "# 이미지 파일명에서 롤과 피치 값을 파싱하는 함수"
   ]
  },
  {
   "cell_type": "code",
   "execution_count": 2,
   "id": "e2ba95a8",
   "metadata": {},
   "outputs": [],
   "source": [
    "def parse_roll_pitch(filename):\n",
    "    try:\n",
    "        # filename을 '_' 기준으로 분할하여 리스트로 만듦\n",
    "        parts = filename.split('_')\n",
    "        # 'roll'과 'pitch' 문자열을 찾고, 이후의 문자열(음수 포함)을 실수로 변환\n",
    "        roll_str = [part for part in parts if 'roll' in part][0]\n",
    "        pitch_str = [part for part in parts if 'pitch' in part][0]\n",
    "        # 'roll'과 'pitch' 문자열에서 숫자 부분만 추출하여 실수로 변환\n",
    "        roll = float(roll_str.replace('roll', ''))\n",
    "        pitch = float(pitch_str.replace('pitch', ''))\n",
    "        return roll, pitch\n",
    "    except ValueError as e:\n",
    "        print(f\"Error processing file {filename}: {e}\")\n",
    "        # 오류가 발생한 경우 기본값 반환\n",
    "        return 0.0, 0.0"
   ]
  },
  {
   "cell_type": "code",
   "execution_count": null,
   "id": "d2e45bf7",
   "metadata": {},
   "outputs": [],
   "source": [
    "# 데이터 로드 향상을 위해 이미지 사이즈를 줄이고 멀티스레딩으로 이미지 로드"
   ]
  },
  {
   "cell_type": "code",
   "execution_count": 3,
   "id": "7fc047de",
   "metadata": {},
   "outputs": [],
   "source": [
    "from concurrent.futures import ThreadPoolExecutor, as_completed\n",
    "from tqdm import tqdm\n",
    "\n",
    "# 이미지 로드 함수\n",
    "def load_image(image_path, img_size=(224, 224)):\n",
    "    img = load_img(image_path, target_size=img_size)\n",
    "    img_array = img_to_array(img) / 255.0\n",
    "    return img_array\n",
    "\n",
    "# 데이터셋 로드 함수\n",
    "def load_dataset(dataset_dir, img_size=(224, 224)):\n",
    "    x, y = [], []\n",
    "    image_paths = []\n",
    "\n",
    "    # 모든 하위 디렉토리를 포함하여 지정된 경로에서 파일 순회\n",
    "    for root, dirs, files in os.walk(dataset_dir):\n",
    "        for filename in files:\n",
    "            if filename.endswith('.png'):  # .png 파일만 처리\n",
    "                img_path = os.path.join(root, filename)\n",
    "                image_paths.append((img_path, filename))\n",
    "\n",
    "    # 멀티스레딩으로 이미지 로드\n",
    "    with ThreadPoolExecutor() as executor: # 멀티스레딩 환경 생성\n",
    "        future_to_image = {executor.submit(load_image, path, img_size): filename for path, filename in image_paths} # load_image 함수를 비동기적으로 실행하며, 각 작업에 대한 Future 객체와 파일명을 매핑\n",
    "        for future in tqdm(as_completed(future_to_image), total=len(future_to_image), desc=\"Loading images\"): # as_completed 함수를 사용하여 각 Future 객체가 완료될 때까지 기다리고, tqdm을 통해 진행 상황을 표시\n",
    "            filename = future_to_image[future] # 완료된 Future 객체에 해당하는 파일명을 가짐\n",
    "            try:\n",
    "                img_array = future.result()\n",
    "                roll, pitch = parse_roll_pitch(filename)\n",
    "                x.append(img_array)\n",
    "                y.append([roll, pitch])\n",
    "            except Exception as e:\n",
    "                print(f\"Error loading {filename}: {e}\")\n",
    "\n",
    "    return np.array(x), np.array(y)"
   ]
  },
  {
   "cell_type": "code",
   "execution_count": null,
   "id": "d9252643",
   "metadata": {},
   "outputs": [],
   "source": [
    "# 데이터 로드 - 데이터 셋이 저장되어 있다는 전재로 해야 함"
   ]
  },
  {
   "cell_type": "code",
   "execution_count": 4,
   "id": "ec05ce31",
   "metadata": {},
   "outputs": [
    {
     "name": "stderr",
     "output_type": "stream",
     "text": [
      "Loading images: 100%|████████████████████| 13447/13447 [01:05<00:00, 206.04it/s]\n"
     ]
    }
   ],
   "source": [
    "dataset_path = 'DATASET_Study'\n",
    "x, y = load_dataset(dataset_path)"
   ]
  },
  {
   "cell_type": "code",
   "execution_count": null,
   "id": "c0be5017",
   "metadata": {},
   "outputs": [],
   "source": [
    "# 데이터의 크기 확인"
   ]
  },
  {
   "cell_type": "code",
   "execution_count": 5,
   "id": "c0814638",
   "metadata": {},
   "outputs": [
    {
     "name": "stdout",
     "output_type": "stream",
     "text": [
      "x shape: (13447, 224, 224, 3)\n",
      "y shape: (13447, 2)\n"
     ]
    }
   ],
   "source": [
    "print(f'x shape: {np.array(x).shape}')\n",
    "print(f'y shape: {np.array(y).shape}')"
   ]
  },
  {
   "cell_type": "code",
   "execution_count": null,
   "id": "6428f3bf",
   "metadata": {},
   "outputs": [],
   "source": [
    "# 테스트 데이터셋을 전체 데이터의 20%로 설정"
   ]
  },
  {
   "cell_type": "code",
   "execution_count": 6,
   "id": "9a4ebe92",
   "metadata": {},
   "outputs": [],
   "source": [
    "test_size = 0.2 # 테스트 데이터셋을 전체 데이터의 20%로 설정\n",
    "x_train, x_test, y_train, y_test = train_test_split(x, y, test_size=test_size, random_state=42)"
   ]
  },
  {
   "cell_type": "code",
   "execution_count": null,
   "id": "7a33df7a",
   "metadata": {},
   "outputs": [],
   "source": [
    "# 데이터 train과 test 데이터셋의 크기 확인"
   ]
  },
  {
   "cell_type": "code",
   "execution_count": 7,
   "id": "a179a83f",
   "metadata": {},
   "outputs": [
    {
     "name": "stdout",
     "output_type": "stream",
     "text": [
      "x_train shape: (13446, 224, 224, 3)\n",
      "y_train shape: (13446, 2)\n",
      "x_test shape: (3362, 224, 224, 3)\n",
      "y_test shape: (3362, 2)\n"
     ]
    }
   ],
   "source": [
    "print(\"x_train shape:\", x_train.shape)\n",
    "print(\"y_train shape:\", y_train.shape)\n",
    "print(\"x_test shape:\", x_test.shape)\n",
    "print(\"y_test shape:\", y_test.shape)"
   ]
  },
  {
   "cell_type": "code",
   "execution_count": null,
   "id": "c2958ef1",
   "metadata": {},
   "outputs": [],
   "source": [
    "# CNN 모델 구성 - 기본 모델"
   ]
  },
  {
   "cell_type": "code",
   "execution_count": 7,
   "id": "73f19fa9",
   "metadata": {},
   "outputs": [
    {
     "name": "stdout",
     "output_type": "stream",
     "text": [
      "Epoch 1/10\n",
      "269/269 [==============================] - 74s 274ms/step - loss: 35.5248 - mae: 3.3051 - val_loss: 0.9243 - val_mae: 0.7591\n",
      "Epoch 2/10\n",
      "269/269 [==============================] - 71s 263ms/step - loss: 0.4880 - mae: 0.5418 - val_loss: 0.3765 - val_mae: 0.4760\n",
      "Epoch 3/10\n",
      "269/269 [==============================] - 69s 257ms/step - loss: 0.3305 - mae: 0.4456 - val_loss: 0.3676 - val_mae: 0.4908\n",
      "Epoch 4/10\n",
      "269/269 [==============================] - 71s 264ms/step - loss: 0.2625 - mae: 0.4008 - val_loss: 0.1944 - val_mae: 0.3417\n",
      "Epoch 5/10\n",
      "269/269 [==============================] - 74s 275ms/step - loss: 0.2164 - mae: 0.3641 - val_loss: 0.1813 - val_mae: 0.3263\n",
      "Epoch 6/10\n",
      "269/269 [==============================] - 70s 261ms/step - loss: 0.1595 - mae: 0.3137 - val_loss: 0.1395 - val_mae: 0.2944\n",
      "Epoch 7/10\n",
      "269/269 [==============================] - 72s 268ms/step - loss: 0.1279 - mae: 0.2796 - val_loss: 0.2387 - val_mae: 0.3824\n",
      "Epoch 8/10\n",
      "269/269 [==============================] - 71s 266ms/step - loss: 0.1185 - mae: 0.2682 - val_loss: 0.1648 - val_mae: 0.3188\n",
      "Epoch 9/10\n",
      "269/269 [==============================] - 72s 269ms/step - loss: 0.1036 - mae: 0.2519 - val_loss: 0.2140 - val_mae: 0.3845\n",
      "Epoch 10/10\n",
      "269/269 [==============================] - 69s 257ms/step - loss: 0.1089 - mae: 0.2585 - val_loss: 0.0932 - val_mae: 0.2386\n"
     ]
    }
   ],
   "source": [
    "model = Sequential([\n",
    "    Conv2D(32, (3, 3), activation='relu', input_shape=(224, 224, 3)),\n",
    "    MaxPooling2D(2, 2),\n",
    "    Conv2D(64, (3, 3), activation='relu'),\n",
    "    MaxPooling2D(2, 2),\n",
    "    Flatten(),\n",
    "    Dense(128, activation='relu'),\n",
    "    Dense(2)  # 롤과 피치 출력\n",
    "])\n",
    "\n",
    "from tensorflow.keras.optimizers import Adam\n",
    "model.compile(optimizer=Adam(), loss='mse', metrics=['mae'])\n",
    "\n",
    "# 모델 훈련\n",
    "history = model.fit(x_train, y_train, epochs=10, validation_split=0.2)\n",
    "\n",
    "# 모델 저장\n",
    "model.save('Reserch/model.keras')"
   ]
  },
  {
   "cell_type": "code",
   "execution_count": null,
   "id": "0f4949a3",
   "metadata": {},
   "outputs": [],
   "source": [
    "# 테스트 데이터 셋을 사용하여 모델 평가"
   ]
  },
  {
   "cell_type": "code",
   "execution_count": 8,
   "id": "7771e34b",
   "metadata": {},
   "outputs": [
    {
     "name": "stdout",
     "output_type": "stream",
     "text": [
      "85/85 [==============================] - 4s 52ms/step - loss: 0.0942 - mae: 0.2392\n",
      "Test Loss: 0.0942474901676178\n",
      "Test MAE: 0.23916804790496826\n"
     ]
    }
   ],
   "source": [
    "test_loss, test_mae = model.evaluate(x_test, y_test)\n",
    "\n",
    "# 평가 결과 출력\n",
    "print(f'Test Loss: {test_loss}')\n",
    "print(f'Test MAE: {test_mae}')"
   ]
  },
  {
   "cell_type": "code",
   "execution_count": null,
   "id": "327eee15",
   "metadata": {},
   "outputs": [],
   "source": [
    "# Performance Metrics - 실행이 안되면 r2를 다 빼고 해보기"
   ]
  },
  {
   "cell_type": "code",
   "execution_count": 9,
   "id": "15901cb7",
   "metadata": {},
   "outputs": [
    {
     "name": "stdout",
     "output_type": "stream",
     "text": [
      "85/85 [==============================] - 4s 52ms/step\n",
      "85/85 [==============================] - 4s 51ms/step\n",
      "R-squared Score: 0.999329776634429\n"
     ]
    },
    {
     "name": "stderr",
     "output_type": "stream",
     "text": [
      "/tmp/ipykernel_20271/741353025.py:17: RuntimeWarning: divide by zero encountered in divide\n",
      "  mape_values = np.abs((y_test - predictions) / y_test)\n"
     ]
    },
    {
     "data": {
      "text/html": [
       "<div>\n",
       "<style scoped>\n",
       "    .dataframe tbody tr th:only-of-type {\n",
       "        vertical-align: middle;\n",
       "    }\n",
       "\n",
       "    .dataframe tbody tr th {\n",
       "        vertical-align: top;\n",
       "    }\n",
       "\n",
       "    .dataframe thead th {\n",
       "        text-align: right;\n",
       "    }\n",
       "</style>\n",
       "<table border=\"1\" class=\"dataframe\">\n",
       "  <thead>\n",
       "    <tr style=\"text-align: right;\">\n",
       "      <th></th>\n",
       "      <th>Models</th>\n",
       "      <th>RMSE</th>\n",
       "      <th>MAE</th>\n",
       "      <th>MAPE</th>\n",
       "      <th>R-squared Score</th>\n",
       "    </tr>\n",
       "  </thead>\n",
       "  <tbody>\n",
       "    <tr>\n",
       "      <th>0</th>\n",
       "      <td>Your Model</td>\n",
       "      <td>0.306998</td>\n",
       "      <td>0.239168</td>\n",
       "      <td>4.360125</td>\n",
       "      <td>0.99933</td>\n",
       "    </tr>\n",
       "  </tbody>\n",
       "</table>\n",
       "</div>"
      ],
      "text/plain": [
       "       Models      RMSE       MAE      MAPE  R-squared Score\n",
       "0  Your Model  0.306998  0.239168  4.360125          0.99933"
      ]
     },
     "execution_count": 9,
     "metadata": {},
     "output_type": "execute_result"
    }
   ],
   "source": [
    "from sklearn.metrics import mean_squared_error, mean_absolute_error, r2_score\n",
    "import pandas as pd\n",
    "\n",
    "# 예측을 배치로 수행하여 메모리 문제 해결\n",
    "batch_size = 32 #적절한 배치 크기로 설정\n",
    "predictions = model.predict(x_test, batch_size=batch_size)\n",
    "\n",
    "predictions = model.predict(x_test)\n",
    "\n",
    "# RMSE 계산\n",
    "rmse = np.sqrt(mean_squared_error(y_test, predictions))\n",
    "\n",
    "# MAE 계산\n",
    "mae = mean_absolute_error(y_test, predictions)\n",
    "\n",
    "# MAPE 계산 - 실제값이 0인 경우를 처리해야 하므로 이 부분을 추가\n",
    "mape_values = np.abs((y_test - predictions) / y_test)\n",
    "mape_values = mape_values[~np.isinf(mape_values) & ~np.isnan(mape_values)]\n",
    "mape = np.mean(mape_values) * 100\n",
    "\n",
    "# R^2 스코어\n",
    "r2 = r2_score(y_test, predictions)\n",
    "print(f\"R-squared Score: {r2}\")\n",
    "\n",
    "# 성능 지표를 데이터프레임으로 저장\n",
    "performance_metrics_df = pd.DataFrame({\n",
    "    'Models': ['Your Model'],\n",
    "    'RMSE': [rmse],\n",
    "    'MAE': [mae],\n",
    "    'MAPE': [mape],\n",
    "    'R-squared Score': [r2]\n",
    "})\n",
    "\n",
    "# 결과를 데이터프레임으로 출력\n",
    "performance_metrics_df"
   ]
  },
  {
   "cell_type": "code",
   "execution_count": 10,
   "id": "da60b574",
   "metadata": {},
   "outputs": [
    {
     "name": "stdout",
     "output_type": "stream",
     "text": [
      "85/85 [==============================] - 4s 52ms/step\n",
      "Mean Absolute Error for Roll: 0.2299396156980812\n",
      "Mean Absolute Error for Pitch: 0.24839654478995774\n"
     ]
    }
   ],
   "source": [
    "# 테스트 데이터셋에 대한 예측 수행\n",
    "y_pred = model.predict(x_test)\n",
    "\n",
    "# roll과 pitch에 대한 MAE 계산\n",
    "mae_roll = mean_absolute_error(y_test[:, 0], y_pred[:, 0])\n",
    "mae_pitch = mean_absolute_error(y_test[:, 1], y_pred[:, 1])\n",
    "\n",
    "print(f\"Mean Absolute Error for Roll: {mae_roll}\")\n",
    "print(f\"Mean Absolute Error for Pitch: {mae_pitch}\")"
   ]
  },
  {
   "cell_type": "code",
   "execution_count": null,
   "id": "567a3b40",
   "metadata": {},
   "outputs": [],
   "source": [
    "# 테스트 값 정확도 출력 (-> 굳이 사용할 필요없지만 참고)"
   ]
  },
  {
   "cell_type": "code",
   "execution_count": 11,
   "id": "1c4a06a6",
   "metadata": {},
   "outputs": [
    {
     "name": "stdout",
     "output_type": "stream",
     "text": [
      "Roll Accuracy-like Score: 96.41%\n",
      "Pitch Accuracy-like Score: 95.08%\n"
     ]
    },
    {
     "name": "stderr",
     "output_type": "stream",
     "text": [
      "/tmp/ipykernel_20271/2844254232.py:16: RuntimeWarning: divide by zero encountered in divide\n",
      "  100 * absolute_differences / np.abs(y_test[non_zero_indices]),\n"
     ]
    }
   ],
   "source": [
    "# y_test가 1차원 배열일 경우, 모든 값이 0이 아닌 경우만 고려\n",
    "if y_test.ndim == 1:\n",
    "    non_zero_indices = np.where(y_test != 0)[0]\n",
    "# y_test가 2차원 배열일 경우, 모든 행에 대해 하나라도 0이 아닌 경우를 고려\n",
    "else:\n",
    "    non_zero_indices = np.where(np.any(y_test != 0, axis=1))[0]\n",
    "\n",
    "# 0이 아닌 실제 값에 대한 예측 값과의 절대적인 차이 계산\n",
    "absolute_differences = np.abs(predictions[non_zero_indices] - y_test[non_zero_indices])\n",
    "\n",
    "# 0이 아닌 실제 값에 대한 차이의 백분율 계산\n",
    "# 실제 값이 0인 경우에는 오차를 계산하지 않음\n",
    "valid_indices = y_test[non_zero_indices] != 0\n",
    "percentage_errors = np.where(\n",
    "    valid_indices,\n",
    "    100 * absolute_differences / np.abs(y_test[non_zero_indices]),\n",
    "    0\n",
    ")\n",
    "\n",
    "# \"정확도\"를 나타내는 지표를 계산 (100%에서 오차를 뺀 값)\n",
    "accuracy_like_scores = 100 - np.mean(percentage_errors, axis=0)\n",
    "\n",
    "# 롤과 피치 각각에 대한 \"정확도\" 출력\n",
    "print(f\"Roll Accuracy-like Score: {accuracy_like_scores[0]:.2f}%\")\n",
    "print(f\"Pitch Accuracy-like Score: {accuracy_like_scores[1]:.2f}%\")"
   ]
  },
  {
   "cell_type": "code",
   "execution_count": null,
   "id": "e497296f",
   "metadata": {},
   "outputs": [],
   "source": [
    "# 훈련 결과 그래프 - 기본"
   ]
  },
  {
   "cell_type": "code",
   "execution_count": 12,
   "id": "18c31bce",
   "metadata": {},
   "outputs": [
    {
     "data": {
      "image/png": "[encoded data removed]",
      "text/plain": [
       "<Figure size 640x480 with 1 Axes>"
      ]
     },
     "metadata": {},
     "output_type": "display_data"
    },
    {
     "data": {
      "image/png": "[encoded data removed]",
      "text/plain": [
       "<Figure size 640x480 with 1 Axes>"
      ]
     },
     "metadata": {},
     "output_type": "display_data"
    }
   ],
   "source": [
    "import matplotlib.pyplot as plt\n",
    "import pandas as pd\n",
    "\n",
    "# 훈련 손실과 검증 손실 시각화\n",
    "#plt.figure(figsize=(10, 4))\n",
    "plt.plot(history.history['loss'], label='Train')\n",
    "plt.plot(history.history['val_loss'], label='Test')\n",
    "plt.title('Loss')\n",
    "#plt.xlabel('Epoch')\n",
    "#plt.ylabel('Loss')\n",
    "plt.legend()\n",
    "plt.show()\n",
    "\n",
    "# 훈련 MAE와 검증 MAE 시각화\n",
    "#plt.figure(figsize=(10, 4))\n",
    "plt.plot(history.history['mae'], label='Train')\n",
    "plt.plot(history.history['val_mae'], label='Test')\n",
    "plt.title('MAE')\n",
    "#plt.xlabel('Epoch')\n",
    "#plt.ylabel('MAE')\n",
    "plt.legend()\n",
    "plt.show()"
   ]
  },
  {
   "cell_type": "code",
   "execution_count": null,
   "id": "7b00767e",
   "metadata": {},
   "outputs": [],
   "source": [
    "# 훈련 결과 그래프 - 이상치 제거 및 그리드 추가"
   ]
  },
  {
   "cell_type": "code",
   "execution_count": 13,
   "id": "ba8044e8",
   "metadata": {},
   "outputs": [
    {
     "data": {
      "image/png": "[encoded data removed]",
      "text/plain": [
       "<Figure size 1000x500 with 1 Axes>"
      ]
     },
     "metadata": {},
     "output_type": "display_data"
    },
    {
     "data": {
      "image/png": "[encoded data removed]",
      "text/plain": [
       "<Figure size 1000x500 with 1 Axes>"
      ]
     },
     "metadata": {},
     "output_type": "display_data"
    }
   ],
   "source": [
    "# 'history.history'에서 'loss'와 'val_loss', 'mae'와 'val_mae'를 가져옴\n",
    "# 이 예에서는 임의의 값으로 배열을 생성합니다. 실제로는 훈련 과정에서 얻은 값들을 사용해야 함\n",
    "loss = np.array(history.history['loss'])\n",
    "val_loss = np.array(history.history['val_loss'])\n",
    "mae = np.array(history.history['mae'])\n",
    "val_mae = np.array(history.history['val_mae'])\n",
    "\n",
    "def outlier_detection(data):\n",
    "    for i in range(1, len(data) - 1):  # 첫 번째와 마지막 값은 제외하고 반복\n",
    "        # 양 옆 값에 비해 현재 값이 이상치인지 확인\n",
    "        if data[i] > data[i - 1] * 1.5 and data[i] > data[i + 1] * 1.5:\n",
    "            # 이상치를 양 옆 값의 평균으로 대체합니다.\n",
    "            data[i] = (data[i - 1] + data[i + 1]) / 2\n",
    "    return data\n",
    "\n",
    "def outlier_detection2(data):\n",
    "    for i in range(1, len(data) - 1):  # 첫 번째와 마지막 값은 제외하고 반복\n",
    "        # 양 옆 값에 비해 현재 값이 이상치인지 확인\n",
    "        if data[i] > data[i - 1] * 1 and data[i] > data[i + 1] * 1:\n",
    "            # 이상치를 양 옆 값의 평균으로 대체\n",
    "            data[i] = (data[i - 1] + data[i + 1]) / 2\n",
    "    return data\n",
    "\n",
    "# 'loss'와 'val_loss' 배열에서 이상치 대체\n",
    "loss = outlier_detection(loss)\n",
    "val_loss = outlier_detection(val_loss)\n",
    "\n",
    "mae = outlier_detection2(mae)\n",
    "val_mae = outlier_detection2(val_mae)\n",
    "\n",
    "Title_Size = 25\n",
    "Size = 20\n",
    "\n",
    "# 손실 그래프\n",
    "plt.figure(figsize=(10, 5))\n",
    "plt.rc('font', size=Size)    \n",
    "plt.rc('xtick', labelsize=Size)  # x축 눈금 폰트 크기 \n",
    "plt.rc('ytick', labelsize=Size)  # y축 눈금 폰트 크기\n",
    "plt.plot(loss[1:], label='Train')\n",
    "plt.plot(val_loss, label='Test')\n",
    "plt.title('Loss',fontsize=Title_Size)\n",
    "plt.xlabel('Epoch', fontsize=Size)\n",
    "plt.ylabel('Loss', fontsize=Size)\n",
    "plt.legend(fontsize=Size)\n",
    "plt.grid(True)\n",
    "plt.show()\n",
    "\n",
    "# MAE 그래프\n",
    "plt.figure(figsize=(10, 5))\n",
    "plt.plot(mae[1:], label='Train')\n",
    "plt.plot(val_mae, label='Test')\n",
    "plt.title('MAE', fontsize=Title_Size)\n",
    "plt.xlabel('Epoch', fontsize=Size)\n",
    "plt.ylabel('MAE', fontsize=Size)\n",
    "plt.legend(fontsize=Size)\n",
    "plt.grid(True)\n",
    "plt.show()"
   ]
  },
  {
   "cell_type": "code",
   "execution_count": null,
   "id": "202e3182",
   "metadata": {},
   "outputs": [],
   "source": [
    "# 이미지 처리"
   ]
  },
  {
   "cell_type": "code",
   "execution_count": null,
   "id": "7fa6e604",
   "metadata": {},
   "outputs": [],
   "source": [
    "# 이미지 파일 경로\n",
    "image_path = 'DATASET2/dataset_11_240205/pitch-10_roll0_184022.png'\n",
    "\n",
    "# 이미지 로드 및 전처리\n",
    "img = load_img(image_path, target_size=(224, 224))\n",
    "img_array = img_to_array(img) / 255.0  # 이미지를 0에서 1로 정규화\n",
    "\n",
    "# 모델을 사용하여 롤과 피치 값을 예측\n",
    "predictions = model.predict(np.expand_dims(img_array, axis=0))\n",
    "\n",
    "# 예측 결과 출력\n",
    "print(\"Predicted Roll:\", predictions[0][0])\n",
    "print(\"Predicted Pitch:\", predictions[0][1])"
   ]
  },
  {
   "cell_type": "code",
   "execution_count": null,
   "id": "d7b98615",
   "metadata": {},
   "outputs": [],
   "source": [
    "# 실제 이미지에서 예측값 확인"
   ]
  },
  {
   "cell_type": "code",
   "execution_count": null,
   "id": "a8a3673f",
   "metadata": {},
   "outputs": [],
   "source": [
    "import cv2\n",
    "import numpy as np\n",
    "from tensorflow.keras.preprocessing import image\n",
    "import matplotlib.pyplot as plt\n",
    "\n",
    "# 모델로부터 롤과 피치 값 예측 함수\n",
    "def predict_roll_pitch(model, img_path):\n",
    "    img = image.load_img(img_path, target_size=(224, 224))\n",
    "    img_array = image.img_to_array(img) / 255.0\n",
    "    img_array = np.expand_dims(img_array, axis=0)  # 모델 입력을 위해 차원 확장\n",
    "\n",
    "    # 모델 예측\n",
    "    predicted_roll_pitch = model.predict(img_array)\n",
    "    return predicted_roll_pitch[0]  # 첫 번째 예측 결과 반환\n",
    "\n",
    "# 영상에 롤과 피치 값 표시\n",
    "def draw_roll_pitch_on_image(image_path, model):\n",
    "    # 이미지 로드\n",
    "    img = cv2.imread(image_path)\n",
    "    img_rgb = cv2.cvtColor(img, cv2.COLOR_BGR2RGB)  # matplotlib에서는 RGB 포맷을 사용\n",
    "\n",
    "    # 모델을 사용하여 롤과 피치 값 예측\n",
    "    predicted_roll, predicted_pitch = predict_roll_pitch(model, image_path)\n",
    "\n",
    "    # 표시할 텍스트 준비\n",
    "    text = f\"Roll: {predicted_roll:.2f}, Pitch: {predicted_pitch:.2f}\"\n",
    "\n",
    "    # 영상에 텍스트 표시\n",
    "    plt.imshow(img_rgb)\n",
    "    plt.text(10, 30, text, color='green', fontsize=12)\n",
    "    plt.axis('off')  # 축 표시 제거\n",
    "    plt.show()\n",
    "\n",
    "# 사용법\n",
    "image_path = 'DATASET2/dataset_2_240205/pitch-2_roll-10_161603.png'  # 실제 이미지 경로로 수정\n",
    "draw_roll_pitch_on_image(image_path, model)  # 'model'은 1단계에서 훈련된 모델 인스턴스"
   ]
  },
  {
   "cell_type": "code",
   "execution_count": null,
   "id": "5457a984",
   "metadata": {},
   "outputs": [],
   "source": [
    "# Case Study 1 - 학습한 모델에 다른 데이터 셋 넣었을 때 결과"
   ]
  },
  {
   "cell_type": "code",
   "execution_count": 15,
   "id": "a705ec3d",
   "metadata": {},
   "outputs": [
    {
     "name": "stderr",
     "output_type": "stream",
     "text": [
      "Loading images: 100%|██████████████████████| 1681/1681 [00:11<00:00, 148.55it/s]\n"
     ]
    },
    {
     "name": "stdout",
     "output_type": "stream",
     "text": [
      "53/53 [==============================] - 3s 52ms/step\n",
      "Mean Squared Error (MSE) on new test set: 8.358876864786108\n",
      "Mean Absolute Error (MAE) on new test set: 2.2942391283748362\n"
     ]
    }
   ],
   "source": [
    "import numpy as np\n",
    "from tensorflow.keras.models import load_model\n",
    "from sklearn.metrics import mean_squared_error, mean_absolute_error\n",
    "\n",
    "# 새로운 테스트 데이터셋 디렉토리\n",
    "new_test_dataset_path = 'DATASET/dataset_10_240205'\n",
    "\n",
    "# 새로운 테스트 데이터셋 로드 (이 함수의 구현이 필요합니다)\n",
    "x_new_test, y_new_test = load_dataset(new_test_dataset_path)\n",
    "\n",
    "# 훈련된 모델 불러오기\n",
    "model = load_model('Reserch/model.keras')\n",
    "\n",
    "# 새로운 테스트 데이터셋에 대한 예측 수행\n",
    "predictions = model.predict(x_new_test)\n",
    "\n",
    "# 성능 평가\n",
    "mse = mean_squared_error(y_new_test, predictions)\n",
    "mae = mean_absolute_error(y_new_test, predictions)\n",
    "\n",
    "print(f\"Mean Squared Error (MSE) on new test set: {mse}\")\n",
    "print(f\"Mean Absolute Error (MAE) on new test set: {mae}\")"
   ]
  },
  {
   "cell_type": "code",
   "execution_count": null,
   "id": "824a45a7",
   "metadata": {},
   "outputs": [],
   "source": [
    "# Case Study 1 - Roll, Pitch에 대한 MAE 값"
   ]
  },
  {
   "cell_type": "code",
   "execution_count": 16,
   "id": "6f1e37c0",
   "metadata": {},
   "outputs": [
    {
     "name": "stdout",
     "output_type": "stream",
     "text": [
      "Mean Absolute Error (MAE) for Roll: 1.3956\n",
      "Mean Absolute Error (MAE) for Pitch: 3.1929\n"
     ]
    }
   ],
   "source": [
    "# Roll, Pitch에 대한 MAE 계산\n",
    "mae_roll = mean_absolute_error(y_new_test[:, 0], predictions[:, 0])\n",
    "mae_pitch = mean_absolute_error(y_new_test[:, 1], predictions[:, 1])\n",
    "\n",
    "print(f\"Mean Absolute Error (MAE) for Roll: {mae_roll:.4f}\")\n",
    "print(f\"Mean Absolute Error (MAE) for Pitch: {mae_pitch:.4f}\")"
   ]
  },
  {
   "cell_type": "code",
   "execution_count": null,
   "id": "2ebc8b3b",
   "metadata": {},
   "outputs": [],
   "source": []
  }
 ],
 "metadata": {
  "kernelspec": {
   "display_name": "Python 3 (ipykernel)",
   "language": "python",
   "name": "python3"
  },
  "language_info": {
   "codemirror_mode": {
    "name": "ipython",
    "version": 3
   },
   "file_extension": ".py",
   "mimetype": "text/x-python",
   "name": "python",
   "nbconvert_exporter": "python",
   "pygments_lexer": "ipython3",
   "version": "3.8.10"
  }
 },
 "nbformat": 4,
 "nbformat_minor": 5
}
